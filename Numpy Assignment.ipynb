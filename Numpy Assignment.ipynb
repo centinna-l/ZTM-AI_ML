{
 "cells": [
  {
   "cell_type": "code",
   "execution_count": 1,
   "id": "bdeb5cc1-56b3-4d12-8c43-c42af193236f",
   "metadata": {},
   "outputs": [],
   "source": [
    "import pandas as pd\n",
    "import numpy as np\n",
    "import matplotlib.pyplot as plt"
   ]
  },
  {
   "cell_type": "code",
   "execution_count": 2,
   "id": "bdebf022-a061-486a-85d4-7f3fc57953b5",
   "metadata": {},
   "outputs": [
    {
     "data": {
      "text/plain": [
       "(array([1, 2, 3]), 1)"
      ]
     },
     "execution_count": 2,
     "metadata": {},
     "output_type": "execute_result"
    }
   ],
   "source": [
    "# 1D Array\n",
    "a1 = np.array([1,2,3])\n",
    "a1, a1.ndim"
   ]
  },
  {
   "cell_type": "code",
   "execution_count": 3,
   "id": "0d27e93d-9d6c-45fc-a52e-0c25ff31765a",
   "metadata": {},
   "outputs": [
    {
     "data": {
      "text/plain": [
       "(array([[1, 2, 3],\n",
       "        [4, 5, 6]]),\n",
       " 2)"
      ]
     },
     "execution_count": 3,
     "metadata": {},
     "output_type": "execute_result"
    }
   ],
   "source": [
    "a2 = np.array([[1,2,3],[4,5,6]])\n",
    "a2, a2.ndim"
   ]
  },
  {
   "cell_type": "code",
   "execution_count": 7,
   "id": "6c9f2bfb-f494-4432-8d64-c2b26e902ebf",
   "metadata": {},
   "outputs": [
    {
     "data": {
      "text/plain": [
       "(array([[[ 1,  2,  3],\n",
       "         [ 4,  5,  6],\n",
       "         [ 2,  2,  2]],\n",
       " \n",
       "        [[ 7,  8,  9],\n",
       "         [10, 11, 12],\n",
       "         [13, 14, 15]],\n",
       " \n",
       "        [[16, 17, 18],\n",
       "         [19, 20, 21],\n",
       "         [ 2,  2,  2]]]),\n",
       " 3)"
      ]
     },
     "execution_count": 7,
     "metadata": {},
     "output_type": "execute_result"
    }
   ],
   "source": [
    "a3 = np.array([\n",
    "    [\n",
    "        [1,2,3],[4,5,6], [2,2,2]\n",
    "    ],[\n",
    "        [7,8,9], [10,11,12],[13,14,15]\n",
    "    ], [\n",
    "        [16,17,18], [19,20,21], [2,2,2]\n",
    "    ]])\n",
    "a3, a3.ndim"
   ]
  },
  {
   "cell_type": "code",
   "execution_count": 8,
   "id": "2db3bedb-770c-4ee0-bcdc-f3d6c29c39ca",
   "metadata": {},
   "outputs": [
    {
     "data": {
      "text/html": [
       "<div>\n",
       "<style scoped>\n",
       "    .dataframe tbody tr th:only-of-type {\n",
       "        vertical-align: middle;\n",
       "    }\n",
       "\n",
       "    .dataframe tbody tr th {\n",
       "        vertical-align: top;\n",
       "    }\n",
       "\n",
       "    .dataframe thead th {\n",
       "        text-align: right;\n",
       "    }\n",
       "</style>\n",
       "<table border=\"1\" class=\"dataframe\">\n",
       "  <thead>\n",
       "    <tr style=\"text-align: right;\">\n",
       "      <th></th>\n",
       "      <th>0</th>\n",
       "    </tr>\n",
       "  </thead>\n",
       "  <tbody>\n",
       "    <tr>\n",
       "      <th>0</th>\n",
       "      <td>1</td>\n",
       "    </tr>\n",
       "    <tr>\n",
       "      <th>1</th>\n",
       "      <td>2</td>\n",
       "    </tr>\n",
       "    <tr>\n",
       "      <th>2</th>\n",
       "      <td>3</td>\n",
       "    </tr>\n",
       "  </tbody>\n",
       "</table>\n",
       "</div>"
      ],
      "text/plain": [
       "   0\n",
       "0  1\n",
       "1  2\n",
       "2  3"
      ]
     },
     "execution_count": 8,
     "metadata": {},
     "output_type": "execute_result"
    }
   ],
   "source": [
    "array_1 = pd.DataFrame(a1)\n",
    "array_1"
   ]
  },
  {
   "cell_type": "code",
   "execution_count": 10,
   "id": "1f9b6719-baf1-41e7-ab0c-873e05e41f6c",
   "metadata": {},
   "outputs": [
    {
     "data": {
      "text/plain": [
       "(array([[1., 1.],\n",
       "        [1., 1.],\n",
       "        [1., 1.],\n",
       "        [1., 1.],\n",
       "        [1., 1.],\n",
       "        [1., 1.],\n",
       "        [1., 1.],\n",
       "        [1., 1.],\n",
       "        [1., 1.],\n",
       "        [1., 1.]]),\n",
       " (10, 2))"
      ]
     },
     "execution_count": 10,
     "metadata": {},
     "output_type": "execute_result"
    }
   ],
   "source": [
    "random_array_1 = np.ones((10,2))\n",
    "random_array_1, random_array_1.shape"
   ]
  },
  {
   "cell_type": "code",
   "execution_count": 12,
   "id": "5a7fd0dd-1dfd-4762-9cc0-8d349cb2cbc3",
   "metadata": {},
   "outputs": [
    {
     "data": {
      "text/plain": [
       "(array([[[0., 0., 0.],\n",
       "         [0., 0., 0.]],\n",
       " \n",
       "        [[0., 0., 0.],\n",
       "         [0., 0., 0.]],\n",
       " \n",
       "        [[0., 0., 0.],\n",
       "         [0., 0., 0.]],\n",
       " \n",
       "        [[0., 0., 0.],\n",
       "         [0., 0., 0.]],\n",
       " \n",
       "        [[0., 0., 0.],\n",
       "         [0., 0., 0.]],\n",
       " \n",
       "        [[0., 0., 0.],\n",
       "         [0., 0., 0.]],\n",
       " \n",
       "        [[0., 0., 0.],\n",
       "         [0., 0., 0.]]]),\n",
       " (7, 2, 3))"
      ]
     },
     "execution_count": 12,
     "metadata": {},
     "output_type": "execute_result"
    }
   ],
   "source": [
    "random_array_2 = np.zeros((7,2,3))\n",
    "random_array_2, random_array_2.shape"
   ]
  },
  {
   "cell_type": "code",
   "execution_count": 15,
   "id": "2b6cb687-7513-4a98-923a-225427c550b8",
   "metadata": {},
   "outputs": [
    {
     "data": {
      "text/plain": [
       "array([ 0,  3,  6,  9, 12, 15, 18, 21, 24, 27, 30, 33, 36, 39, 42, 45, 48,\n",
       "       51, 54, 57, 60, 63, 66, 69, 72, 75, 78, 81, 84, 87, 90, 93, 96, 99])"
      ]
     },
     "execution_count": 15,
     "metadata": {},
     "output_type": "execute_result"
    }
   ],
   "source": [
    "random_array_3 = np.arange(0,100,3)\n",
    "random_array_3"
   ]
  },
  {
   "cell_type": "code",
   "execution_count": 16,
   "id": "f880b148-2e70-4290-96be-a771b111acbc",
   "metadata": {},
   "outputs": [
    {
     "data": {
      "text/plain": [
       "array([[3, 6],\n",
       "       [4, 9],\n",
       "       [9, 9],\n",
       "       [7, 1],\n",
       "       [1, 3],\n",
       "       [8, 1],\n",
       "       [9, 0]])"
      ]
     },
     "execution_count": 16,
     "metadata": {},
     "output_type": "execute_result"
    }
   ],
   "source": [
    "random_array_4 = np.random.randint(0,10, size=(7,2))\n",
    "random_array_4"
   ]
  },
  {
   "cell_type": "code",
   "execution_count": 17,
   "id": "7d602ef2-bbd6-4398-a072-07c187446e2d",
   "metadata": {},
   "outputs": [
    {
     "data": {
      "text/plain": [
       "array([[0.40184764, 0.47768891, 0.0304047 , 0.17467762, 0.7177827 ],\n",
       "       [0.59613031, 0.19317855, 0.45978195, 0.66630092, 0.54705621],\n",
       "       [0.95279389, 0.23585301, 0.470124  , 0.82695457, 0.73340803]])"
      ]
     },
     "execution_count": 17,
     "metadata": {},
     "output_type": "execute_result"
    }
   ],
   "source": [
    "np.random.random((3,5))"
   ]
  },
  {
   "cell_type": "code",
   "execution_count": 20,
   "id": "d3bfb160-0711-4237-81dc-393bb999295d",
   "metadata": {},
   "outputs": [
    {
     "data": {
      "text/plain": [
       "array([[6, 3, 7, 4, 6, 9],\n",
       "       [2, 6, 7, 4, 3, 7],\n",
       "       [7, 2, 5, 4, 1, 7],\n",
       "       [5, 1, 4, 0, 9, 5]])"
      ]
     },
     "execution_count": 20,
     "metadata": {},
     "output_type": "execute_result"
    }
   ],
   "source": [
    "# Seed\n",
    "np.random.seed(42)\n",
    "random_array_5 = np.random.randint(0,10,size=(4,6))\n",
    "random_array_5"
   ]
  },
  {
   "cell_type": "code",
   "execution_count": 23,
   "id": "2ad420fe-a12b-4bc7-94b8-c57d034036e9",
   "metadata": {},
   "outputs": [
    {
     "data": {
      "text/plain": [
       "(array([[2, 5, 8, 9, 9, 1, 9],\n",
       "        [7, 9, 8, 1, 8, 8, 3],\n",
       "        [1, 8, 3, 3, 1, 5, 7]]),\n",
       " array([1, 2, 3, 5, 7, 8, 9]))"
      ]
     },
     "execution_count": 23,
     "metadata": {},
     "output_type": "execute_result"
    }
   ],
   "source": [
    "# Create an array of random numbers between 1 & 10 of size (3, 7)\n",
    "# and save it to a variable\n",
    "random_array_6 = np.random.randint(1,10, size=(3,7))\n",
    "# Find the unique numbers in the array you just created\n",
    "random_array_6, np.unique(random_array_6)"
   ]
  },
  {
   "cell_type": "code",
   "execution_count": 24,
   "id": "a87f54e1-ade7-4489-8c6b-96139c253093",
   "metadata": {},
   "outputs": [
    {
     "data": {
      "text/plain": [
       "array([2, 5, 8, 9, 9, 1, 9])"
      ]
     },
     "execution_count": 24,
     "metadata": {},
     "output_type": "execute_result"
    }
   ],
   "source": [
    "# Find the 0'th index of the latest array you created\n",
    "random_array_6[0]"
   ]
  },
  {
   "cell_type": "code",
   "execution_count": 25,
   "id": "5568517a-857c-4934-92a7-4df30086da4d",
   "metadata": {},
   "outputs": [
    {
     "data": {
      "text/plain": [
       "array([[2, 5, 8, 9, 9, 1, 9],\n",
       "       [7, 9, 8, 1, 8, 8, 3]])"
      ]
     },
     "execution_count": 25,
     "metadata": {},
     "output_type": "execute_result"
    }
   ],
   "source": [
    "random_array_6[:2]"
   ]
  },
  {
   "cell_type": "code",
   "execution_count": 26,
   "id": "ec823e99-11e3-4919-b1b1-d20ca99caaac",
   "metadata": {},
   "outputs": [
    {
     "data": {
      "text/plain": [
       "array([[2, 5],\n",
       "       [7, 9]])"
      ]
     },
     "execution_count": 26,
     "metadata": {},
     "output_type": "execute_result"
    }
   ],
   "source": [
    "random_array_6[:2, :2]"
   ]
  },
  {
   "cell_type": "code",
   "execution_count": 27,
   "id": "f56db4ca-5b18-48a1-bc56-45673c987e94",
   "metadata": {},
   "outputs": [
    {
     "data": {
      "text/plain": [
       "(array([[1., 1., 1., 1., 1.],\n",
       "        [1., 1., 1., 1., 1.],\n",
       "        [1., 1., 1., 1., 1.]]),\n",
       " array([[9, 8, 6, 8, 7],\n",
       "        [1, 0, 6, 6, 7],\n",
       "        [4, 2, 7, 5, 2]]))"
      ]
     },
     "execution_count": 27,
     "metadata": {},
     "output_type": "execute_result"
    }
   ],
   "source": [
    "# Create a random array of numbers between 0 & 10 and an array of ones\n",
    "# both of size (3, 5), save them both to variables\n",
    "random_array_7 = np.random.randint(0,10, size=(3,5))\n",
    "random_ones = np.ones((3,5))\n",
    "\n",
    "random_ones, random_array_7"
   ]
  },
  {
   "cell_type": "code",
   "execution_count": 28,
   "id": "cc04660b-96c2-4b24-9c0e-41ce5e1ac516",
   "metadata": {},
   "outputs": [
    {
     "data": {
      "text/plain": [
       "array([[10.,  9.,  7.,  9.,  8.],\n",
       "       [ 2.,  1.,  7.,  7.,  8.],\n",
       "       [ 5.,  3.,  8.,  6.,  3.]])"
      ]
     },
     "execution_count": 28,
     "metadata": {},
     "output_type": "execute_result"
    }
   ],
   "source": [
    "# Add the two arrays together\n",
    "random_array_7 + random_ones"
   ]
  },
  {
   "cell_type": "code",
   "execution_count": 29,
   "id": "279abf03-0643-4978-9137-c3f9c4e3b125",
   "metadata": {},
   "outputs": [],
   "source": [
    "# Create another array of ones of shape (5, 3)\n",
    "random_array_8 = np.ones((5,3))"
   ]
  },
  {
   "cell_type": "code",
   "execution_count": 31,
   "id": "28885f0e-97de-4b4f-8650-c38adce2789c",
   "metadata": {},
   "outputs": [
    {
     "ename": "ValueError",
     "evalue": "operands could not be broadcast together with shapes (3,5) (5,3) ",
     "output_type": "error",
     "traceback": [
      "\u001b[0;31m---------------------------------------------------------------------------\u001b[0m",
      "\u001b[0;31mValueError\u001b[0m                                Traceback (most recent call last)",
      "Cell \u001b[0;32mIn[31], line 1\u001b[0m\n\u001b[0;32m----> 1\u001b[0m random_array_7 \u001b[38;5;241m+\u001b[39m random_array_8\n",
      "\u001b[0;31mValueError\u001b[0m: operands could not be broadcast together with shapes (3,5) (5,3) "
     ]
    }
   ],
   "source": [
    "random_array_7 + random_array_8"
   ]
  },
  {
   "cell_type": "code",
   "execution_count": 32,
   "id": "15d49c26-a6b9-4da2-a15a-61dbcdd17c53",
   "metadata": {},
   "outputs": [],
   "source": [
    "# Create another array of ones of shape (3, 5)\n",
    "ones = np.ones((3, 5))"
   ]
  },
  {
   "cell_type": "code",
   "execution_count": 33,
   "id": "3502e32a-5226-4108-ba3a-9a8c7103f778",
   "metadata": {},
   "outputs": [
    {
     "data": {
      "text/plain": [
       "array([[ 8.,  7.,  5.,  7.,  6.],\n",
       "       [ 0., -1.,  5.,  5.,  6.],\n",
       "       [ 3.,  1.,  6.,  4.,  1.]])"
      ]
     },
     "execution_count": 33,
     "metadata": {},
     "output_type": "execute_result"
    }
   ],
   "source": [
    "# Subtract the new array of ones from the other most recent array\n",
    "random_array_7 - ones"
   ]
  },
  {
   "cell_type": "code",
   "execution_count": 34,
   "id": "3b5fe1d4-34fb-49c2-9c27-407d47e90f09",
   "metadata": {},
   "outputs": [
    {
     "ename": "ValueError",
     "evalue": "operands could not be broadcast together with shapes (5,3) (3,5) ",
     "output_type": "error",
     "traceback": [
      "\u001b[0;31m---------------------------------------------------------------------------\u001b[0m",
      "\u001b[0;31mValueError\u001b[0m                                Traceback (most recent call last)",
      "Cell \u001b[0;32mIn[34], line 1\u001b[0m\n\u001b[0;32m----> 1\u001b[0m random_array_8 \u001b[38;5;241m*\u001b[39m ones\n",
      "\u001b[0;31mValueError\u001b[0m: operands could not be broadcast together with shapes (5,3) (3,5) "
     ]
    }
   ],
   "source": [
    "random_array_8 * ones"
   ]
  },
  {
   "cell_type": "code",
   "execution_count": null,
   "id": "1f603b86-6b97-40e6-86b0-08df158c59dc",
   "metadata": {},
   "outputs": [],
   "source": []
  }
 ],
 "metadata": {
  "kernelspec": {
   "display_name": "Python 3 (ipykernel)",
   "language": "python",
   "name": "python3"
  },
  "language_info": {
   "codemirror_mode": {
    "name": "ipython",
    "version": 3
   },
   "file_extension": ".py",
   "mimetype": "text/x-python",
   "name": "python",
   "nbconvert_exporter": "python",
   "pygments_lexer": "ipython3",
   "version": "3.12.3"
  }
 },
 "nbformat": 4,
 "nbformat_minor": 5
}
